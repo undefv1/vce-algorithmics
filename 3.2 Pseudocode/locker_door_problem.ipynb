{
 "cells": [
  {
   "cell_type": "markdown",
   "metadata": {},
   "source": [
    "# Solving the Locker Door Problem"
   ]
  },
  {
   "cell_type": "markdown",
   "metadata": {},
   "source": [
    "### Question \n",
    "\n",
    "*There are n lockers in a hallway, numbered sequentially from 1 to n.  Initially all the locker doors are closed.  You make n passes by the lockers, each time starting with locker 1.  On the ith path, i=1,2,....n you toggle the door of every ith locker; if the door is closed, you open it; if it is open, you close it.  After the last pass, which locker doors are open and which are closed?  How many of them are open?*"
   ]
  },
  {
   "cell_type": "markdown",
   "metadata": {},
   "source": [
    "### Solution"
   ]
  },
  {
   "cell_type": "markdown",
   "metadata": {},
   "source": [
    "So let's find a pattern here\n",
    "\n",
    "\n",
    "To help with this, let's say there are 50 lockers in here"
   ]
  },
  {
   "cell_type": "code",
   "execution_count": 41,
   "metadata": {},
   "outputs": [
    {
     "name": "stdout",
     "output_type": "stream",
     "text": [
      "[False, False, False, False, False, False, False, False, False, False, False, False, False, False, False, False, False, False, False, False, False, False, False, False, False]\n"
     ]
    }
   ],
   "source": [
    "num_of_lockers = 25\n",
    "lockers = [False for i in range(num_of_lockers)]\n",
    "\n",
    "print(lockers)"
   ]
  },
  {
   "cell_type": "markdown",
   "metadata": {},
   "source": [
    "Ok we have a 25 lockers that are not open (`False` is not open and `True` is open)\n",
    "\n",
    "Now I make 25 passes by the lockers, each time I pass for *i*th time I'm changing every *i*th locker (if the locker is open I close it, if the locker closed I open it)\n",
    "\n",
    "So for the first time I open all the lockers <br>\n",
    "`1.Open  2.Open  3.Open  4.Open  5.Open  6.Open ... 25.Open`\n",
    "\n",
    "2nd time I going to change every second locker<br>\n",
    "`1.Open  2.Close  3.Open  4.Close  5.Open  6.Close ... 25.Open`\n",
    "\n",
    "3nd time I going to change every third locker<br>\n",
    "`1.Open  2.Close   3.Close  4.Close  5.Close  6.Open ... 25.Open`\n",
    "\n",
    "You get the idea. Let's see which lockers are open and not after the last pass"
   ]
  },
  {
   "cell_type": "code",
   "execution_count": 62,
   "metadata": {},
   "outputs": [
    {
     "data": {
      "text/html": [
       "<div>\n",
       "<style scoped>\n",
       "    .dataframe tbody tr th:only-of-type {\n",
       "        vertical-align: middle;\n",
       "    }\n",
       "\n",
       "    .dataframe tbody tr th {\n",
       "        vertical-align: top;\n",
       "    }\n",
       "\n",
       "    .dataframe thead th {\n",
       "        text-align: right;\n",
       "    }\n",
       "</style>\n",
       "<table border=\"1\" class=\"dataframe\">\n",
       "  <thead>\n",
       "    <tr style=\"text-align: right;\">\n",
       "      <th></th>\n",
       "      <th>1</th>\n",
       "      <th>2</th>\n",
       "      <th>3</th>\n",
       "      <th>4</th>\n",
       "      <th>5</th>\n",
       "      <th>6</th>\n",
       "      <th>7</th>\n",
       "      <th>8</th>\n",
       "      <th>9</th>\n",
       "      <th>10</th>\n",
       "      <th>...</th>\n",
       "      <th>16</th>\n",
       "      <th>17</th>\n",
       "      <th>18</th>\n",
       "      <th>19</th>\n",
       "      <th>20</th>\n",
       "      <th>21</th>\n",
       "      <th>22</th>\n",
       "      <th>23</th>\n",
       "      <th>24</th>\n",
       "      <th>25</th>\n",
       "    </tr>\n",
       "  </thead>\n",
       "  <tbody>\n",
       "    <tr>\n",
       "      <th>is_open</th>\n",
       "      <td>True</td>\n",
       "      <td>False</td>\n",
       "      <td>False</td>\n",
       "      <td>True</td>\n",
       "      <td>False</td>\n",
       "      <td>False</td>\n",
       "      <td>False</td>\n",
       "      <td>False</td>\n",
       "      <td>True</td>\n",
       "      <td>False</td>\n",
       "      <td>...</td>\n",
       "      <td>True</td>\n",
       "      <td>False</td>\n",
       "      <td>False</td>\n",
       "      <td>False</td>\n",
       "      <td>False</td>\n",
       "      <td>False</td>\n",
       "      <td>False</td>\n",
       "      <td>False</td>\n",
       "      <td>False</td>\n",
       "      <td>True</td>\n",
       "    </tr>\n",
       "  </tbody>\n",
       "</table>\n",
       "<p>1 rows × 25 columns</p>\n",
       "</div>"
      ],
      "text/plain": [
       "           1      2      3     4      5      6      7      8     9      10  \\\n",
       "is_open  True  False  False  True  False  False  False  False  True  False   \n",
       "\n",
       "         ...    16     17     18     19     20     21     22     23     24  \\\n",
       "is_open  ...  True  False  False  False  False  False  False  False  False   \n",
       "\n",
       "           25  \n",
       "is_open  True  \n",
       "\n",
       "[1 rows x 25 columns]"
      ]
     },
     "execution_count": 62,
     "metadata": {},
     "output_type": "execute_result"
    }
   ],
   "source": [
    "num_of_passes = num_of_lockers # since for n lockers I make n passes\n",
    "\n",
    "for num_of_time in range(1,num_of_passes+1): \n",
    "    for locker_number in range(0,num_of_passes):\n",
    "        if (locker_number+1) % num_of_time == 0: # check if the locker number is divisable by number of passes\n",
    "            lockers[locker_number] = not lockers[locker_number] # if so change the lockcer\n",
    "\n",
    "# Making a fancy table with pandas library\n",
    "import pandas as pd\n",
    "lockers_df = pd.DataFrame({'is_open':lockers})\n",
    "lockers_df.index += 1 # so the numbering starts from 1, not 0\n",
    "lockers_df.T"
   ]
  },
  {
   "cell_type": "markdown",
   "metadata": {},
   "source": [
    "We got some open and close lockers. Let's filter out the open lockers"
   ]
  },
  {
   "cell_type": "code",
   "execution_count": 43,
   "metadata": {},
   "outputs": [
    {
     "data": {
      "text/html": [
       "<div>\n",
       "<style scoped>\n",
       "    .dataframe tbody tr th:only-of-type {\n",
       "        vertical-align: middle;\n",
       "    }\n",
       "\n",
       "    .dataframe tbody tr th {\n",
       "        vertical-align: top;\n",
       "    }\n",
       "\n",
       "    .dataframe thead th {\n",
       "        text-align: right;\n",
       "    }\n",
       "</style>\n",
       "<table border=\"1\" class=\"dataframe\">\n",
       "  <thead>\n",
       "    <tr style=\"text-align: right;\">\n",
       "      <th></th>\n",
       "      <th>1</th>\n",
       "      <th>4</th>\n",
       "      <th>9</th>\n",
       "      <th>16</th>\n",
       "      <th>25</th>\n",
       "    </tr>\n",
       "  </thead>\n",
       "  <tbody>\n",
       "    <tr>\n",
       "      <th>is_open</th>\n",
       "      <td>True</td>\n",
       "      <td>True</td>\n",
       "      <td>True</td>\n",
       "      <td>True</td>\n",
       "      <td>True</td>\n",
       "    </tr>\n",
       "  </tbody>\n",
       "</table>\n",
       "</div>"
      ],
      "text/plain": [
       "           1     4     9     16    25\n",
       "is_open  True  True  True  True  True"
      ]
     },
     "execution_count": 43,
     "metadata": {},
     "output_type": "execute_result"
    }
   ],
   "source": [
    "open_lockers = lockers_df[lockers_df['is_open'] == True] \n",
    "open_lockers.T"
   ]
  },
  {
   "cell_type": "markdown",
   "metadata": {},
   "source": [
    "This is a familiar number pattern. This is because square numbers have odd number of factors. For example, 16th locker opened in the 1st pass, and it closed again for 4th pass and opened back again for 16th pass."
   ]
  }
 ],
 "metadata": {
  "interpreter": {
   "hash": "a707b6ce8c685eb936424fcc3009d4b4b7a52543c4db09380a3fc49186ceb509"
  },
  "kernelspec": {
   "display_name": "Python 3.9.7 ('base')",
   "language": "python",
   "name": "python3"
  },
  "language_info": {
   "name": "python",
   "version": "3.9.7"
  },
  "orig_nbformat": 4
 },
 "nbformat": 4,
 "nbformat_minor": 2
}
